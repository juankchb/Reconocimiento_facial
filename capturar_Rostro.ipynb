{
  "nbformat": 4,
  "nbformat_minor": 0,
  "metadata": {
    "colab": {
      "provenance": [],
      "authorship_tag": "ABX9TyMGaPEWx3bwu5hqHNgj98Ak",
      "include_colab_link": true
    },
    "kernelspec": {
      "name": "python3",
      "display_name": "Python 3"
    },
    "language_info": {
      "name": "python"
    }
  },
  "cells": [
    {
      "cell_type": "markdown",
      "metadata": {
        "id": "view-in-github",
        "colab_type": "text"
      },
      "source": [
        "<a href=\"https://colab.research.google.com/github/juankchb/Reconocimiento_facial/blob/main/capturar_Rostro.ipynb\" target=\"_parent\"><img src=\"https://colab.research.google.com/assets/colab-badge.svg\" alt=\"Open In Colab\"/></a>"
      ]
    },
    {
      "cell_type": "code",
      "source": [
        "import cv2\n",
        "import os\n",
        "import imutils"
      ],
      "metadata": {
        "id": "SqSiftIgpSji"
      },
      "execution_count": 2,
      "outputs": []
    },
    {
      "cell_type": "code",
      "source": [
        "!git clone https://github.com/juankchb/Reconocimiento_facial.git"
      ],
      "metadata": {
        "colab": {
          "base_uri": "https://localhost:8080/"
        },
        "id": "4CHFh3qjpWvQ",
        "outputId": "aa162504-a1f2-4ae9-e07c-31c8acefe142"
      },
      "execution_count": 1,
      "outputs": [
        {
          "output_type": "stream",
          "name": "stdout",
          "text": [
            "Cloning into 'Reconocimiento_facial'...\n",
            "remote: Enumerating objects: 75, done.\u001b[K\n",
            "remote: Counting objects: 100% (75/75), done.\u001b[K\n",
            "remote: Compressing objects: 100% (61/61), done.\u001b[K\n",
            "remote: Total 75 (delta 5), reused 0 (delta 0), pack-reused 0\u001b[K\n",
            "Receiving objects: 100% (75/75), 2.82 MiB | 5.87 MiB/s, done.\n",
            "Resolving deltas: 100% (5/5), done.\n"
          ]
        }
      ]
    },
    {
      "cell_type": "code",
      "execution_count": 3,
      "metadata": {
        "id": "AzD4VuVjfwYe",
        "colab": {
          "base_uri": "https://localhost:8080/"
        },
        "outputId": "f0b11a93-8e2b-4af9-8537-3f9a49f8d39f"
      },
      "outputs": [
        {
          "output_type": "stream",
          "name": "stdout",
          "text": [
            "Carpeta creada: /content/Reconocimiento_facial/Imagenes_capturadas/Juan\n"
          ]
        }
      ],
      "source": [
        "if not os.path.exists(\"Reconocimiento_facial\"):\n",
        "    !git clone https://github.com/juankchb/Reconocimiento_facial.git\n",
        "\n",
        "personName = 'Juan'\n",
        "dataPath = '/content/Reconocimiento_facial/Imagenes_capturadas'\n",
        "personPath = os.path.join(dataPath, personName)\n",
        "\n",
        "if not os.path.exists(personPath):\n",
        "    print('Carpeta creada:', personPath)\n",
        "    os.makedirs(personPath)\n",
        "\n",
        "cap = cv2.VideoCapture('/content/Reconocimiento_facial/Videos_deteccion_rostro/Juan.mp4')\n",
        "\n",
        "faceClassif = cv2.CascadeClassifier(cv2.data.haarcascades + 'haarcascade_frontalface_default.xml')\n",
        "count = 0\n",
        "\n",
        "while True:\n",
        "    ret, frame = cap.read()\n",
        "    if not ret:\n",
        "        break\n",
        "\n",
        "    frame = imutils.resize(frame, width=640)\n",
        "    gray = cv2.cvtColor(frame, cv2.COLOR_BGR2GRAY)\n",
        "    auxFrame = frame.copy()\n",
        "    faces = faceClassif.detectMultiScale(gray, 1.3, 5)\n",
        "\n",
        "    for (x, y, w, h) in faces:\n",
        "        cv2.rectangle(frame, (x, y), (x + w, y + h), (0, 255, 0), 2)\n",
        "        rostro = auxFrame[y:y + h, x:x + w]\n",
        "        rostro = cv2.resize(rostro, (150, 150), interpolation=cv2.INTER_CUBIC)\n",
        "        cv2.imwrite(os.path.join(personPath, 'rostro_{}.jpg'.format(count)), rostro)\n",
        "        count += 1\n",
        "\n",
        "    #cv2.imshow('frame', frame) (usar en entorno)\n",
        "\n",
        "    k = cv2.waitKey(1)\n",
        "    if k == 27 or count >= 300:\n",
        "        break\n",
        "\n",
        "cap.release()\n",
        "cv2.destroyAllWindows()\n"
      ]
    }
  ]
}
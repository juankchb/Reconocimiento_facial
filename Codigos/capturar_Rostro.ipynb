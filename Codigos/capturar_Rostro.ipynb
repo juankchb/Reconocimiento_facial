{
  "nbformat": 4,
  "nbformat_minor": 0,
  "metadata": {
    "colab": {
      "provenance": []
    },
    "kernelspec": {
      "name": "python3",
      "display_name": "Python 3"
    },
    "language_info": {
      "name": "python"
    }
  },
  "cells": [
    {
      "cell_type": "code",
      "source": [
        "import cv2\n",
        "import os\n",
        "import imutils"
      ],
      "metadata": {
        "id": "SqSiftIgpSji"
      },
      "execution_count": 1,
      "outputs": []
    },
    {
      "cell_type": "code",
      "source": [
        "!git clone https://github.com/juankchb/Reconocimiento_facial.git"
      ],
      "metadata": {
        "colab": {
          "base_uri": "https://localhost:8080/"
        },
        "id": "4CHFh3qjpWvQ",
        "outputId": "00047a43-9a10-49aa-8848-ed865f36e988"
      },
      "execution_count": 2,
      "outputs": [
        {
          "output_type": "stream",
          "name": "stdout",
          "text": [
            "Cloning into 'Reconocimiento_facial'...\n",
            "remote: Enumerating objects: 36, done.\u001b[K\n",
            "remote: Counting objects: 100% (36/36), done.\u001b[K\n",
            "remote: Compressing objects: 100% (26/26), done.\u001b[K\n",
            "remote: Total 36 (delta 3), reused 0 (delta 0), pack-reused 0\u001b[K\n",
            "Receiving objects: 100% (36/36), 2.81 MiB | 33.07 MiB/s, done.\n",
            "Resolving deltas: 100% (3/3), done.\n"
          ]
        }
      ]
    },
    {
      "cell_type": "code",
      "execution_count": 4,
      "metadata": {
        "id": "AzD4VuVjfwYe"
      },
      "outputs": [],
      "source": [
        "if not os.path.exists(\"Reconocimiento_facial\"):\n",
        "    !git clone https://github.com/juankchb/Reconocimiento_facial.git\n",
        "\n",
        "personName = 'Juan'\n",
        "dataPath = '/content/Reconocimiento_facial/Imagenes_capturadas'  # Ruta al directorio de datos, sin el archivo\n",
        "personPath = os.path.join(dataPath, personName)  # Utilizar os.path.join para combinar rutas correctamente\n",
        "\n",
        "if not os.path.exists(personPath):\n",
        "    print('Carpeta creada:', personPath)\n",
        "    os.makedirs(personPath)\n",
        "\n",
        "cap = cv2.VideoCapture('/content/Reconocimiento_facial/Videos_deteccion_rostro/Juan.mp4')\n",
        "\n",
        "faceClassif = cv2.CascadeClassifier(cv2.data.haarcascades + 'haarcascade_frontalface_default.xml')\n",
        "count = 0\n",
        "\n",
        "while True:\n",
        "    ret, frame = cap.read()\n",
        "    if not ret:\n",
        "        break\n",
        "\n",
        "    frame = imutils.resize(frame, width=640)\n",
        "    gray = cv2.cvtColor(frame, cv2.COLOR_BGR2GRAY)\n",
        "    auxFrame = frame.copy()\n",
        "    faces = faceClassif.detectMultiScale(gray, 1.3, 5)\n",
        "\n",
        "    for (x, y, w, h) in faces:\n",
        "        cv2.rectangle(frame, (x, y), (x + w, y + h), (0, 255, 0), 2)\n",
        "        rostro = auxFrame[y:y + h, x:x + w]\n",
        "        rostro = cv2.resize(rostro, (150, 150), interpolation=cv2.INTER_CUBIC)\n",
        "        cv2.imwrite(os.path.join(personPath, 'rostro_{}.jpg'.format(count)), rostro)\n",
        "        count += 1\n",
        "\n",
        "    #cv2.imshow('frame', frame) (usar en entorno)\n",
        "\n",
        "    k = cv2.waitKey(1)\n",
        "    if k == 27 or count >= 300:\n",
        "        break\n",
        "\n",
        "cap.release()\n",
        "cv2.destroyAllWindows()\n"
      ]
    }
  ]
}
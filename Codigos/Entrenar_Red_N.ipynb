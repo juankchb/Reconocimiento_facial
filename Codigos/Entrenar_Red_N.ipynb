{
  "nbformat": 4,
  "nbformat_minor": 0,
  "metadata": {
    "colab": {
      "provenance": []
    },
    "kernelspec": {
      "name": "python3",
      "display_name": "Python 3"
    },
    "language_info": {
      "name": "python"
    }
  },
  "cells": [
    {
      "cell_type": "code",
      "execution_count": 1,
      "metadata": {
        "id": "rFaIZTBE4rCq"
      },
      "outputs": [],
      "source": [
        "import cv2\n",
        "import os\n",
        "import numpy as np"
      ]
    },
    {
      "cell_type": "code",
      "source": [
        "!git clone https://github.com/juankchb/Reconocimiento_facial.git"
      ],
      "metadata": {
        "colab": {
          "base_uri": "https://localhost:8080/"
        },
        "id": "m5SUu9RJ6tuN",
        "outputId": "90404111-7752-4d8f-a18e-1bf673886bd3"
      },
      "execution_count": 2,
      "outputs": [
        {
          "output_type": "stream",
          "name": "stdout",
          "text": [
            "Cloning into 'Reconocimiento_facial'...\n",
            "remote: Enumerating objects: 63, done.\u001b[K\n",
            "remote: Counting objects: 100% (63/63), done.\u001b[K\n",
            "remote: Compressing objects: 100% (49/49), done.\u001b[K\n",
            "remote: Total 63 (delta 4), reused 0 (delta 0), pack-reused 0\u001b[K\n",
            "Receiving objects: 100% (63/63), 2.82 MiB | 10.84 MiB/s, done.\n",
            "Resolving deltas: 100% (4/4), done.\n"
          ]
        }
      ]
    },
    {
      "cell_type": "code",
      "source": [
        "dataPath = '/content/Reconocimiento_facial/Imagenes'\n",
        "peopleList = os.listdir(dataPath)\n",
        "print('Lista de personas: ', peopleList)\n",
        "\n",
        "labels = []\n",
        "facesData = []\n",
        "label = 0\n",
        "\n",
        "for nameDir in peopleList:\n",
        "\tpersonPath = dataPath + '/' + nameDir\n",
        "\tprint('Leyendo las imágenes')\n",
        "\n",
        "\tfor fileName in os.listdir(personPath):\n",
        "\t\tprint('Rostros: ', nameDir + '/' + fileName)\n",
        "\t\tlabels.append(label)\n",
        "\t\tfacesData.append(cv2.imread(personPath+'/'+fileName,0))\n",
        "    #Lineas para visualizar como se estan leyendo las imagenes, se hace en entorno\n",
        "\t\t#image = cv2.imread(personPath+'/'+fileName,0)\n",
        "\t\t#cv2.imshow('image',image)\n",
        "\t\t#cv2.waitKey(10)\n",
        "\tlabel = label + 1\n",
        "\n",
        "#Verificar imagenes leidas\n",
        "#print('labels= ',labels)\n",
        "#print('Número de etiquetas 0: ',np.count_nonzero(np.array(labels)==0))\n",
        "#print('Número de etiquetas 1: ',np.count_nonzero(np.array(labels)==1))\n",
        "\n",
        "# Métodos para entrenar el reconocedor\n",
        "#Para el primer metodo las imagenes deben estar en escala de grises, asume que el tamaño de todas las imagenes es el mismo\n",
        "#face_recognizer = cv2.face.EigenFaceRecognizer_create()\n",
        "#Para el segundo metodo las imagenes deben estar en escala de grises, asume que el tamaño de todas las imagenes es el mismo\n",
        "#face_recognizer = cv2.face.FisherFaceRecognizer_create()\n",
        "#Para el tercer metodo las imagenes deben estar en escala de grises, asume que el tamaño de todas las imagenes es el mismo\n",
        "face_recognizer = cv2.face.LBPHFaceRecognizer_create()\n",
        "\n",
        "# Entrenando el reconocedor de rostros\n",
        "print(\"Entrenando...\")\n",
        "face_recognizer.train(facesData, np.array(labels))\n",
        "\n",
        "# Almacenando el modelo obtenido para evitar tener que entrenar de nuevo\n",
        "#face_recognizer.write('modeloEigenFace.xml')\n",
        "#face_recognizer.write('modeloFisherFace.xml')\n",
        "face_recognizer.write('modeloLBPHFace.xml')\n",
        "print(\"Modelo almacenado...\")"
      ],
      "metadata": {
        "colab": {
          "base_uri": "https://localhost:8080/"
        },
        "id": "wCozmBsq6pqP",
        "outputId": "42adeef5-d1cb-416f-f4c7-1caa067e6f3b"
      },
      "execution_count": 3,
      "outputs": [
        {
          "output_type": "stream",
          "name": "stdout",
          "text": [
            "Lista de personas:  ['test', 'Juan']\n"
          ]
        }
      ]
    }
  ]
}